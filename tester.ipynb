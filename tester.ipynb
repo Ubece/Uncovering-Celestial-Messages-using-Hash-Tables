{
 "cells": [
  {
   "cell_type": "markdown",
   "metadata": {},
   "source": [
    "## Provisional Grade Calculator\n",
    "\n",
    "The `tester.ipynb` Jupyter Notebook is provided to assist you with both the initialization of the system and the execution of operations using the `CelestialCommunicationSystem` class. This notebook includes a series of cells corresponding to each operation you need to test within your implementation. To evaluate a specific operation, simply run the cell associated with that operation.\n",
    "\n",
    "### Important Instructions:\n",
    "- **Running Evaluation Cells**: Each cell corresponding to a specific operation will evaluate the correctness of your implementation for that operation and contribute to your provisional grade. **Running the same cell multiple times will update the provisional grade each time, which may be misleading.** \n",
    "- **Understanding Your Grade**: The grade calculated by this notebook is provisional and is based on the operations tested within this notebook. It is unlikely to cover all possible scenarios or test cases. **The final assessment may differ, and thus, the grade obtained through this notebook should be viewed as indicative and not final.**\n",
    "- **Developing Additional Test Cases**: You are encouraged to write your own test cases in addition to those provided. This will help ensure your implementation can handle a broader range of scenarios, potentially identifying edge cases not covered by this tester.\n",
    "\n",
    "### Grading Criteria:\n",
    "- **Building Hash Table:** There are distinct tests for insertions, deletions, and mixed cases to allow for partial credit. Each operation is worth 25 points.\n",
    "- **README.MD File**: Provide a README.MD file, documenting your operations, usage instructions, and suggestions for improving the hash functions. This file is worth 10 Points.\n",
    "\n",
    "The overall provisional grade proposed by the tester will be out of 90, which is to be completed to 100 with the grade obtained from the README.MD file.\n",
    "\n",
    "Remember, this is a tool to assist you in your development process and should be used as one part of your overall testing and validation strategy."
   ]
  },
  {
   "cell_type": "markdown",
   "metadata": {},
   "source": [
    "### Initializing the System:"
   ]
  },
  {
   "cell_type": "code",
   "execution_count": 1,
   "metadata": {},
   "outputs": [],
   "source": [
    "# Worth of each operation\n",
    "hash_insert_worth = 25\n",
    "hash_delete_worth = 25\n",
    "hash_mixed_worth = 25\n",
    "decode_worth = 15\n",
    "\n",
    "# grade proposed\n",
    "provisional_grade = 0"
   ]
  },
  {
   "cell_type": "code",
   "execution_count": 2,
   "metadata": {},
   "outputs": [],
   "source": [
    "from CelestialCommunicationSystem import CelestialCommunicationSystem\n",
    "input_file = 'CelestialMessagesInitialization.dat'\n",
    "manager = CelestialCommunicationSystem(input_file)"
   ]
  },
  {
   "cell_type": "markdown",
   "metadata": {},
   "source": [
    "### TEST INSERT"
   ]
  },
  {
   "cell_type": "code",
   "execution_count": 3,
   "metadata": {},
   "outputs": [],
   "source": [
    "manager.handle_Insert()\n",
    "expected_hash_table = {'Slot 0': None,\n",
    " 'Capricorn': 'Goat with stars at its feet.',\n",
    " 'Aquila': 'Eagle in flight.',\n",
    " 'Sagittarius': 'Archer of the galaxy.',\n",
    " 'Taurus': 'Bull of the heavens.',\n",
    " 'Slot 5': None,\n",
    " 'Orion': 'Seek the stars.',\n",
    " 'Slot 7': None,\n",
    " 'Ursa': 'Bear of the stars.',\n",
    " 'Vega': 'Brightness in solitude.',\n",
    " 'Slot 10': None,\n",
    " 'Slot 11': None,\n",
    " 'Slot 12': None,\n",
    " 'Slot 13': None,\n",
    " 'Andromeda': 'Beyond the Milky Way.',\n",
    " 'Scorpius': 'Sting of the cosmos.',\n",
    " 'Slot 16': None,\n",
    " 'Slot 17': None,\n",
    " 'Lyra': 'The celestial harp.',\n",
    " 'Slot 19': None,\n",
    " 'Slot 20': None,\n",
    " 'Slot 21': None,\n",
    " 'Slot 22': None,\n",
    " 'Centaurus': 'Myth of the skies.',\n",
    " 'Pisces': 'Fish swimming in the celestial river.',\n",
    " 'Hydra': 'Serpent of deep space.',\n",
    " 'Slot 26': None,\n",
    " 'Libra': 'Balance of space.',\n",
    " 'Cassiopeia': 'Navigate the night.',\n",
    " 'Slot 29': None,\n",
    " 'Slot 30': None,\n",
    " 'Slot 31': None,\n",
    " 'Slot 32': None,\n",
    " 'Slot 33': None,\n",
    " 'Slot 34': None,\n",
    " 'Virgo': 'Maiden of the cosmos.',\n",
    " 'Slot 36': None,\n",
    " 'Aries': 'Ram of the stars.',\n",
    " 'Slot 38': None,\n",
    " 'Leo': 'The cosmic lion.',\n",
    " 'Slot 40': None,\n",
    " 'Slot 41': None,\n",
    " 'Perseus': 'Hero of the stars.',\n",
    " 'Slot 43': None,\n",
    " 'Slot 44': None,\n",
    " 'Slot 45': None,\n",
    " 'Slot 46': None,\n",
    " 'Slot 47': None,\n",
    " 'Hercules': 'Strength of the heavens.',\n",
    " 'Slot 49': None,\n",
    " 'Slot 50': None,\n",
    " 'Slot 51': None,\n",
    " 'Slot 52': None,\n",
    " 'Slot 53': None,\n",
    " 'Slot 54': None,\n",
    " 'Slot 55': None,\n",
    " 'Slot 56': None,\n",
    " 'Slot 57': None,\n",
    " 'Cancer': 'Crab from the starry shore.',\n",
    " 'Slot 59': None,\n",
    " 'Slot 60': None,\n",
    " 'Slot 61': None,\n",
    " 'Slot 62': None,\n",
    " 'Cygnus': 'Flight through the stars.',\n",
    " 'Slot 64': None,\n",
    " 'Slot 65': None,\n",
    " 'Gemini': 'Twins of the galaxy.',\n",
    " 'Slot 67': None,\n",
    " 'Slot 68': None,\n",
    " 'Slot 69': None,\n",
    " 'Slot 70': None,\n",
    " 'Slot 71': None,\n",
    " 'Slot 72': None,\n",
    " 'Slot 73': None,\n",
    " 'Slot 74': None,\n",
    " 'Pleiades': 'Welcome to the universe!',\n",
    " 'Draco': 'Dragon of the night.',\n",
    " 'Slot 77': None,\n",
    " 'Slot 78': None,\n",
    " 'Slot 79': None}"
   ]
  },
  {
   "cell_type": "code",
   "execution_count": 4,
   "metadata": {},
   "outputs": [
    {
     "name": "stdout",
     "output_type": "stream",
     "text": [
      "Insert test passed\n"
     ]
    }
   ],
   "source": [
    "# test if the hash table is correct\n",
    "if manager.getHashTable() == expected_hash_table:\n",
    "    provisional_grade += hash_insert_worth\n",
    "    print(\"Insert test passed\")\n",
    "else:\n",
    "    print(\"Insert test failed\")"
   ]
  },
  {
   "cell_type": "code",
   "execution_count": 5,
   "metadata": {},
   "outputs": [
    {
     "data": {
      "text/plain": [
       "25"
      ]
     },
     "execution_count": 5,
     "metadata": {},
     "output_type": "execute_result"
    }
   ],
   "source": [
    "provisional_grade"
   ]
  },
  {
   "cell_type": "markdown",
   "metadata": {},
   "source": [
    "### TEST DELETE"
   ]
  },
  {
   "cell_type": "code",
   "execution_count": 6,
   "metadata": {},
   "outputs": [],
   "source": [
    "manager.handle_Delete()\n",
    "expected_hash_table = {'Slot 0': None,\n",
    " 'Capricorn': 'Goat with stars at its feet.',\n",
    " 'Aquila': 'Eagle in flight.',\n",
    " 'Sagittarius': 'Archer of the galaxy.',\n",
    " 'Taurus': 'Bull of the heavens.',\n",
    " 'Slot 5': None,\n",
    " 'Slot 6': 'TOMBSTONE',\n",
    " 'Slot 7': None,\n",
    " 'Ursa': 'Bear of the stars.',\n",
    " 'Slot 9': 'TOMBSTONE',\n",
    " 'Slot 10': None,\n",
    " 'Slot 11': None,\n",
    " 'Slot 12': None,\n",
    " 'Slot 13': None,\n",
    " 'Andromeda': 'Beyond the Milky Way.',\n",
    " 'Scorpius': 'Sting of the cosmos.',\n",
    " 'Slot 16': None,\n",
    " 'Slot 17': None,\n",
    " 'Lyra': 'The celestial harp.',\n",
    " 'Slot 19': None,\n",
    " 'Slot 20': None,\n",
    " 'Slot 21': None,\n",
    " 'Slot 22': None,\n",
    " 'Centaurus': 'Myth of the skies.',\n",
    " 'Pisces': 'Fish swimming in the celestial river.',\n",
    " 'Hydra': 'Serpent of deep space.',\n",
    " 'Slot 26': None,\n",
    " 'Slot 27': 'TOMBSTONE',\n",
    " 'Slot 28': 'TOMBSTONE',\n",
    " 'Slot 29': None,\n",
    " 'Slot 30': None,\n",
    " 'Slot 31': None,\n",
    " 'Slot 32': None,\n",
    " 'Slot 33': None,\n",
    " 'Slot 34': None,\n",
    " 'Virgo': 'Maiden of the cosmos.',\n",
    " 'Slot 36': None,\n",
    " 'Aries': 'Ram of the stars.',\n",
    " 'Slot 38': None,\n",
    " 'Leo': 'The cosmic lion.',\n",
    " 'Slot 40': None,\n",
    " 'Slot 41': None,\n",
    " 'Perseus': 'Hero of the stars.',\n",
    " 'Slot 43': None,\n",
    " 'Slot 44': None,\n",
    " 'Slot 45': None,\n",
    " 'Slot 46': None,\n",
    " 'Slot 47': None,\n",
    " 'Hercules': 'Strength of the heavens.',\n",
    " 'Slot 49': None,\n",
    " 'Slot 50': None,\n",
    " 'Slot 51': None,\n",
    " 'Slot 52': None,\n",
    " 'Slot 53': None,\n",
    " 'Slot 54': None,\n",
    " 'Slot 55': None,\n",
    " 'Slot 56': None,\n",
    " 'Slot 57': None,\n",
    " 'Cancer': 'Crab from the starry shore.',\n",
    " 'Slot 59': None,\n",
    " 'Slot 60': None,\n",
    " 'Slot 61': None,\n",
    " 'Slot 62': None,\n",
    " 'Cygnus': 'Flight through the stars.',\n",
    " 'Slot 64': None,\n",
    " 'Slot 65': None,\n",
    " 'Gemini': 'Twins of the galaxy.',\n",
    " 'Slot 67': None,\n",
    " 'Slot 68': None,\n",
    " 'Slot 69': None,\n",
    " 'Slot 70': None,\n",
    " 'Slot 71': None,\n",
    " 'Slot 72': None,\n",
    " 'Slot 73': None,\n",
    " 'Slot 74': None,\n",
    " 'Pleiades': 'Welcome to the universe!',\n",
    " 'Slot 76': 'TOMBSTONE',\n",
    " 'Slot 77': None,\n",
    " 'Slot 78': None,\n",
    " 'Slot 79': None}"
   ]
  },
  {
   "cell_type": "code",
   "execution_count": 7,
   "metadata": {},
   "outputs": [
    {
     "name": "stdout",
     "output_type": "stream",
     "text": [
      "Delete test passed\n"
     ]
    }
   ],
   "source": [
    "# test if the hash table is correct\n",
    "if manager.getHashTable() == expected_hash_table:\n",
    "    provisional_grade += hash_delete_worth\n",
    "    print(\"Delete test passed\")\n",
    "else:\n",
    "    print(\"Delete test failed\")"
   ]
  },
  {
   "cell_type": "code",
   "execution_count": 8,
   "metadata": {},
   "outputs": [
    {
     "data": {
      "text/plain": [
       "50"
      ]
     },
     "execution_count": 8,
     "metadata": {},
     "output_type": "execute_result"
    }
   ],
   "source": [
    "provisional_grade"
   ]
  },
  {
   "cell_type": "markdown",
   "metadata": {},
   "source": [
    "### TEST MIX"
   ]
  },
  {
   "cell_type": "code",
   "execution_count": 9,
   "metadata": {},
   "outputs": [],
   "source": [
    "manager.handle_Mixed()\n",
    "expected_hash_table = {'Slot 0': None,\n",
    " 'Capricorn': 'Goat with stars at its feet.',\n",
    " 'Aquila': 'Eagle in flight.',\n",
    " 'Sagittarius': 'Archer of the galaxy.',\n",
    " 'Taurus': 'Bull of the heavens.',\n",
    " 'Slot 5': None,\n",
    " 'Slot 6': 'TOMBSTONE',\n",
    " 'Slot 7': None,\n",
    " 'Ursa': 'Bear of the stars.',\n",
    " 'Slot 9': 'TOMBSTONE',\n",
    " 'Slot 10': None,\n",
    " 'Slot 11': None,\n",
    " 'Slot 12': None,\n",
    " 'Slot 13': None,\n",
    " 'Andromeda': 'Beyond the Milky Way.',\n",
    " 'Scorpius': 'Sting of the cosmos.',\n",
    " 'Slot 16': None,\n",
    " 'Slot 17': None,\n",
    " 'Lyra': 'The celestial harp.',\n",
    " 'Slot 19': None,\n",
    " 'Slot 20': None,\n",
    " 'Slot 21': None,\n",
    " 'Slot 22': None,\n",
    " 'Centaurus': 'Myth of the skies.',\n",
    " 'Pisces': 'Fish swimming in the celestial river.',\n",
    " 'Hydra': 'Serpent of deep space.',\n",
    " 'Slot 26': None,\n",
    " 'Slot 27': 'TOMBSTONE',\n",
    " 'Slot 28': 'TOMBSTONE',\n",
    " 'Slot 29': None,\n",
    " 'Slot 30': None,\n",
    " 'Slot 31': None,\n",
    " 'Slot 32': None,\n",
    " 'Slot 33': None,\n",
    " 'Slot 34': None,\n",
    " 'Virgo': 'Maiden of the cosmos.',\n",
    " 'Slot 36': None,\n",
    " 'Aries': 'Ram of the stars.',\n",
    " 'Slot 38': None,\n",
    " 'Leo': 'The cosmic lion.',\n",
    " 'Slot 40': None,\n",
    " 'Slot 41': None,\n",
    " 'Perseus': 'Hero of the stars.',\n",
    " 'Slot 43': None,\n",
    " 'Slot 44': None,\n",
    " 'Slot 45': None,\n",
    " 'Slot 46': None,\n",
    " 'Slot 47': None,\n",
    " 'Hercules': 'Strength of the heavens.',\n",
    " 'Slot 49': None,\n",
    " 'Slot 50': None,\n",
    " 'Slot 51': None,\n",
    " 'Slot 52': None,\n",
    " 'Slot 53': None,\n",
    " 'Slot 54': None,\n",
    " 'Slot 55': None,\n",
    " 'Slot 56': None,\n",
    " 'Slot 57': None,\n",
    " 'Cancer': 'Crab from the starry shore.',\n",
    " 'Slot 59': None,\n",
    " 'Slot 60': None,\n",
    " 'Slot 61': None,\n",
    " 'Slot 62': None,\n",
    " 'Cygnus': 'Flight through the stars.',\n",
    " 'Slot 64': None,\n",
    " 'Slot 65': None,\n",
    " 'Gemini': 'Twins of the galaxy.',\n",
    " 'Slot 67': None,\n",
    " 'Slot 68': None,\n",
    " 'Slot 69': None,\n",
    " 'Slot 70': None,\n",
    " 'Slot 71': None,\n",
    " 'Slot 72': None,\n",
    " 'Slot 73': None,\n",
    " 'Slot 74': None,\n",
    " 'Pleiades': 'Welcome to the universe!',\n",
    " 'Slot 76': 'TOMBSTONE',\n",
    " 'Slot 77': None,\n",
    " 'Slot 78': None,\n",
    " 'Slot 79': None}"
   ]
  },
  {
   "cell_type": "code",
   "execution_count": 10,
   "metadata": {},
   "outputs": [
    {
     "name": "stdout",
     "output_type": "stream",
     "text": [
      "Mixed test passed\n"
     ]
    }
   ],
   "source": [
    "# test if the hash table is correct\n",
    "if manager.getHashTable() == expected_hash_table:\n",
    "    provisional_grade += hash_mixed_worth\n",
    "    print(\"Mixed test passed\")\n",
    "else:\n",
    "    print(\"Mixed test failed\") "
   ]
  },
  {
   "cell_type": "code",
   "execution_count": 11,
   "metadata": {},
   "outputs": [
    {
     "data": {
      "text/plain": [
       "75"
      ]
     },
     "execution_count": 11,
     "metadata": {},
     "output_type": "execute_result"
    }
   ],
   "source": [
    "provisional_grade"
   ]
  },
  {
   "cell_type": "markdown",
   "metadata": {},
   "source": [
    "### TEST DECODER"
   ]
  },
  {
   "cell_type": "code",
   "execution_count": 12,
   "metadata": {},
   "outputs": [],
   "source": [
    "msg = \"Pleiades|Andromeda*Cygnus-Scorpius|Libra-Vega-Ursa-Draco*Aquila|Lyra-Centaurus-Hercules-Perseus-Leo*Gemini-Taurus|Cancer|Pisces|Virgo-Capricorn|Aries-Sagittarius\"\n",
    "expected_decoded_msg = \"Welcome to the universe! Beyond the Milky Way. Flight through the stars. Sting of the cosmos. [UNKNOWN] [UNKNOWN] Bear of the stars. [UNKNOWN] Eagle in flight. The celestial harp. Myth of the skies. Strength of the heavens. Hero of the stars. The cosmic lion. Twins of the galaxy. Bull of the heavens. Crab from the starry shore. Fish swimming in the celestial river. Maiden of the cosmos. Goat with stars at its feet. Ram of the stars. Archer of the galaxy.\""
   ]
  },
  {
   "cell_type": "code",
   "execution_count": 13,
   "metadata": {},
   "outputs": [
    {
     "name": "stdout",
     "output_type": "stream",
     "text": [
      "Decode test passed\n"
     ]
    }
   ],
   "source": [
    "# test if the decoded message is correct\n",
    "if manager.handle_Decode(msg) == expected_decoded_msg:\n",
    "    provisional_grade += decode_worth\n",
    "    print(\"Decode test passed\")"
   ]
  },
  {
   "cell_type": "code",
   "execution_count": 16,
   "metadata": {},
   "outputs": [
    {
     "name": "stdout",
     "output_type": "stream",
     "text": [
      "Provisional grade is: 90 / 90\n"
     ]
    }
   ],
   "source": [
    "print(f\"Provisional grade is: {provisional_grade} / 90\")"
   ]
  }
 ],
 "metadata": {
  "kernelspec": {
   "display_name": "Python 3",
   "language": "python",
   "name": "python3"
  },
  "language_info": {
   "codemirror_mode": {
    "name": "ipython",
    "version": 3
   },
   "file_extension": ".py",
   "mimetype": "text/x-python",
   "name": "python",
   "nbconvert_exporter": "python",
   "pygments_lexer": "ipython3",
   "version": "3.11.4"
  }
 },
 "nbformat": 4,
 "nbformat_minor": 2
}
